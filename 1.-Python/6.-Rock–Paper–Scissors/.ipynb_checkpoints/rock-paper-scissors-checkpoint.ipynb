{
 "cells": [
  {
   "cell_type": "markdown",
   "metadata": {},
   "source": [
    "<img src=\"https://bit.ly/2VnXWr2\" width=\"100\" align=\"left\">"
   ]
  },
  {
   "cell_type": "markdown",
   "metadata": {},
   "source": [
    "# Rock, Paper & Scissors\n",
    "\n",
    "Let's play the famous game against our computer. You can check the rules [here](https://en.wikipedia.org/wiki/Rock%E2%80%93paper%E2%80%93scissors). \n",
    "\n",
    "## Task\n",
    "Create a program that imitates the playability of the well known game of rock, paper, scissors. Follow the guidelines provided.\n",
    "\n",
    "## Tools\n",
    "1. Loop: **for/while**\n",
    "2. Functions: **input(), print()...**\n",
    "3. Conditional statements: **if, elif, else**\n",
    "4. Definition of functions. Modular programming\n",
    "5. Import modules\n",
    "\n",
    "**To solve this challenge, the use of functions is recommended.**\n",
    "\n",
    "#### 1. Import the choice function of the random module."
   ]
  },
  {
   "cell_type": "code",
   "execution_count": 2,
   "metadata": {},
   "outputs": [],
   "source": [
    "import random"
   ]
  },
  {
   "cell_type": "markdown",
   "metadata": {},
   "source": [
    "#### 2. Create a list that includes the 3 possible gesture options of the game: 'rock', 'paper' or 'scissors'. Store the list in a variable called `gestures`."
   ]
  },
  {
   "cell_type": "code",
   "execution_count": 3,
   "metadata": {},
   "outputs": [],
   "source": [
    "gestures = ['rock', 'paper', 'scissors']"
   ]
  },
  {
   "cell_type": "markdown",
   "metadata": {},
   "source": [
    "#### 3. Create a variable called `n_rounds` to store the maximum number of rounds to play in a game. \n",
    "Remember that the number of rounds must be odd: 1, 3, 5, ..."
   ]
  },
  {
   "cell_type": "code",
   "execution_count": 7,
   "metadata": {},
   "outputs": [],
   "source": [
    "n_rounds = 3"
   ]
  },
  {
   "cell_type": "markdown",
   "metadata": {},
   "source": [
    "#### 4. Create a variable called `rounds_to_win` to store the number of rounds that a player must win to win the game.\n",
    "**Hint**: the value stored in `rounds_to_win` depends on the value of `n_rounds`. "
   ]
  },
  {
   "cell_type": "code",
   "execution_count": 8,
   "metadata": {},
   "outputs": [],
   "source": [
    "if n_rounds == 1:\n",
    "    rounds_to_win = 1\n",
    "else: \n",
    "    rounds_to_win = n_rounds - 1"
   ]
  },
  {
   "cell_type": "markdown",
   "metadata": {},
   "source": [
    "#### 5. Create two variables to store the number of rounds that the computer and the player have won. Call these variables `cpu_score` and `player_score`."
   ]
  },
  {
   "cell_type": "code",
   "execution_count": 4,
   "metadata": {},
   "outputs": [],
   "source": [
    "cpu_score = 0\n",
    "player_score = 0"
   ]
  },
  {
   "cell_type": "markdown",
   "metadata": {},
   "source": [
    "#### 6. Define a function that randomly returns one of the 3 gesture options.\n",
    "You will use this function to simulate the gesture choice of the computer. "
   ]
  },
  {
   "cell_type": "code",
   "execution_count": null,
   "metadata": {},
   "outputs": [],
   "source": [
    "cpu_response = None\n",
    "\n",
    "def cpu_choice():\n",
    "    global cpu_response\n",
    "    cpu_response = random.choice(gestures) \n",
    "    return cpu_response"
   ]
  },
  {
   "cell_type": "markdown",
   "metadata": {},
   "source": [
    "#### 7. Define a function that asks the player which is the gesture he or she wants to show: 'rock', 'paper' or 'scissors'.\n",
    "The player should only be allowed to choose one of the 3 gesture options. If the player's choice is not rock, paper or scissors, keep asking until it is."
   ]
  },
  {
   "cell_type": "code",
   "execution_count": null,
   "metadata": {},
   "outputs": [],
   "source": [
    "player_response = None\n",
    "\n",
    "def player_choice():\n",
    "    global player_response\n",
    "    player_response = input(\"Your choice: \")\n",
    "    while player_response.lower() not in [\"rock\", \"paper\", \"scissors\"]:\n",
    "        player_response = input(\"Please enter 'rock', 'paper', or 'scissors': \")\n",
    "    player_response = player_response.lower()\n",
    "    return player_response"
   ]
  },
  {
   "cell_type": "markdown",
   "metadata": {},
   "source": [
    "#### 8. Define a function that checks who won a round. \n",
    "The function should return 0 if there is a tie, 1 if the computer wins and 2 if the player wins."
   ]
  },
  {
   "cell_type": "code",
   "execution_count": null,
   "metadata": {},
   "outputs": [],
   "source": [
    "# 0 = Tie\n",
    "# 1 = Computer wins \n",
    "# 2 = Player wins\n",
    "\n",
    "#cpu_choice()\n",
    "#player_choice()\n",
    "\n",
    "#print(f\"Computer choice: {cpu_response}\")\n",
    "#print(f\"Player choice: {player_response}\")\n",
    "\n",
    "def winner_round():\n",
    "    global winner\n",
    "    if cpu_response == player_response:\n",
    "        winner = 0\n",
    "    elif (cpu_response == 'rock' and player_response == 'scissors') or (cpu_response == 'scissors' and player_response == 'paper') or (cpu_response == 'paper' and player_response == 'rock'):\n",
    "        winner = 1\n",
    "    else:\n",
    "        winner = 2\n",
    "    return winner\n",
    "    \n",
    "#winner_round()\n",
    "\n",
    "#print(winner)\n"
   ]
  },
  {
   "cell_type": "markdown",
   "metadata": {},
   "source": [
    "#### 9. Define a function that prints the choice of the computer, the choice of the player and a message that announces who won the current round. \n",
    "You should also use this function to update the variables that count the number of rounds that the computer and the player have won. The score of the winner increases by one point. If there is a tie, the score does not increase."
   ]
  },
  {
   "cell_type": "code",
   "execution_count": null,
   "metadata": {},
   "outputs": [],
   "source": [
    "#cpu_choice()\n",
    "#player_choice()\n",
    "\n",
    "def winner_mult_rounds():\n",
    "    global cpu_score\n",
    "    global player_score\n",
    "    #print(f\"Your choice: {player_response}\")\n",
    "    print(f\"Computer choice: {cpu_response}\")\n",
    "    #print(\"*\" * 5)\n",
    "    winner_round()\n",
    "    if winner == 1:\n",
    "        cpu_score += 1\n",
    "        print(f\"cpu_score: {cpu_score}\")\n",
    "        print(f\"player_score: {player_score}\")\n",
    "        print(\"***The computer wins this round***\")\n",
    "        print(\" \")\n",
    "    elif winner == 2:\n",
    "        player_score += 1\n",
    "        print(f\"cpu_score: {cpu_score}\")\n",
    "        print(f\"player_score: {player_score}\")\n",
    "        print(\"***You win this round***\")\n",
    "        print(\" \")\n",
    "    else:\n",
    "        print(f\"cpu_score: {cpu_score}\")\n",
    "        print(f\"player_score: {player_score}\")\n",
    "        print(\"***It's a tie***\")\n",
    "        print(\" \")\n",
    "    return\n",
    "\n",
    "        \n",
    "#winner_mult_rounds()"
   ]
  },
  {
   "cell_type": "markdown",
   "metadata": {},
   "source": [
    "#### 10. Now it's time to code the execution of the game using the functions and variables you defined above. \n",
    "\n",
    "First, create a loop structure that repeats while no player reaches the minimum score necessary to win and the number of rounds is less than the maximum number of rounds to play in a game.  \n",
    "\n",
    "Inside the loop, use the functions and variables above to create the execution of a round: ask for the player's choice, generate the random choice of the computer, show the round results, update the scores, etc. "
   ]
  },
  {
   "cell_type": "code",
   "execution_count": null,
   "metadata": {},
   "outputs": [],
   "source": [
    "def game_rps():\n",
    "    global count_rounds\n",
    "    count_rounds = 0\n",
    "    count_rounds += 1\n",
    "    print(\"Let's play rock paper scissors!\")\n",
    "\n",
    "    while count_rounds <= n_rounds and (cpu_score < rounds_to_win and player_score < rounds_to_win):\n",
    "        print(f\"Round {count_rounds}/{n_rounds}\")\n",
    "        #print(f\"cpu_score: {cpu_score}\")\n",
    "        #print(f\"player_score: {player_score}\")\n",
    "        #print(\"***\")\n",
    "        player_choice()\n",
    "        cpu_choice()\n",
    "        #print(\"*\" * 3)\n",
    "        winner_mult_rounds()\n",
    "        #print(\"*\" * 3)\n",
    "        count_rounds += 1\n",
    "        #print(\"_\" * 10)\n",
    "\n",
    "    if cpu_score > player_score:\n",
    "        print(\"***Game finished. The computer wins, sorry!***\")\n",
    "    elif cpu_score < player_score:\n",
    "        print(\"***Game finished. You win the game, congrats!***\")\n",
    "    else:\n",
    "        print(\"***Game finished. It's a tie. Better luck next time!***\")\n",
    "    return\n",
    "\n",
    "game_rps()"
   ]
  },
  {
   "cell_type": "markdown",
   "metadata": {},
   "source": [
    "#### 11. Print the winner of the game based on who won more rounds.\n",
    "Remember that the game might be tied. "
   ]
  },
  {
   "cell_type": "markdown",
   "metadata": {},
   "source": [
    "# Bonus: Rock, Paper, Scissors, Lizard & Spock\n",
    "![](images/rpsls.jpg)\n",
    "\n",
    "In this challenge, you need to improve the previous game by adding two new options. To know more about the rules of the improved version of rock, paper, scissors, check this [link](http://www.samkass.com/theories/RPSSL.html). \n",
    "\n",
    "In addition, you will also need to improve how the game interacts with the player: the number of rounds to play, which must be an odd number, will be requested to the user until a valid number is entered. Define a new function to make that request.\n",
    "\n",
    "**Hint**: Try to reuse the code that you already coded in the previous challenge. If your code is efficient, this bonus will only consist of simple modifications to the original game."
   ]
  },
  {
   "cell_type": "code",
   "execution_count": 11,
   "metadata": {},
   "outputs": [
    {
     "name": "stdout",
     "output_type": "stream",
     "text": [
      "How many rounds would you like to play? Please enter an odd number (e.g. 3): 3\n",
      "Let's play rock paper scissors lizard spock!\n",
      "***Game finished. The computer wins, sorry!***\n"
     ]
    }
   ],
   "source": [
    "gestures = ['rock', 'paper', 'scissors', 'lizard', 'spock']\n",
    "\n",
    "def n_rounds_rpsls():\n",
    "    global num_rounds\n",
    "    num_rounds = int(input(\"How many rounds would you like to play? Please enter an odd number (e.g. 3): \"))\n",
    "    while int(num_rounds) % 2 == 0: \n",
    "        num_rounds = input(\"Please enter an odd number: \")\n",
    "    return num_rounds\n",
    "\n",
    "def cpu_choice_rpsls():\n",
    "    global cpu_response\n",
    "    cpu_response = random.choice(gestures) \n",
    "    return cpu_response\n",
    "\n",
    "def player_choice_rpsls():\n",
    "    global player_response\n",
    "    player_response = input(\"Your choice: \")\n",
    "    while player_response.lower() not in [\"rock\", \"paper\", \"scissors\", \"lizard\", \"spock\"]:\n",
    "        player_response = input(\"Please enter 'rock', 'paper', 'scissors', 'lizard', 'spock': \")\n",
    "    player_response = player_response.lower()\n",
    "    return player_response\n",
    "\n",
    "def winner_round_rpsls():\n",
    "    global winner\n",
    "    if cpu_response == player_response:\n",
    "        winner = 0\n",
    "    elif (cpu_response == 'rock' and (player_response == 'scissors' or player_response == 'lizard')) or (cpu_response == 'scissors' and (player_response == 'paper' or player_response == 'lizard')) or (cpu_response == 'paper' and (player_response == 'rock' or player_response == 'spock')) or (cpu_response == 'spock' and (player_response == 'rock' or player_response == 'scissors')) or (cpu_response == 'lizard' and (player_response == 'spock' or player_response == 'hand')):\n",
    "        winner = 1\n",
    "    else:\n",
    "        winner = 2\n",
    "    return winner\n",
    "\n",
    "def winner_mult_rounds():\n",
    "    global cpu_score\n",
    "    global player_score\n",
    "    #print(f\"Your choice: {player_response}\")\n",
    "    print(f\"Computer choice: {cpu_response}\")\n",
    "    #print(\"*\" * 5)\n",
    "    winner_round_rpsls()\n",
    "    if winner == 1:\n",
    "        cpu_score += 1\n",
    "        print(f\"cpu_score: {cpu_score}\")\n",
    "        print(f\"player_score: {player_score}\")\n",
    "        print(\"***The computer wins this round***\")\n",
    "        print(\" \")\n",
    "    elif winner == 2:\n",
    "        player_score += 1\n",
    "        print(f\"cpu_score: {cpu_score}\")\n",
    "        print(f\"player_score: {player_score}\")\n",
    "        print(\"***You win this round***\")\n",
    "        print(\" \")\n",
    "    else:\n",
    "        print(f\"cpu_score: {cpu_score}\")\n",
    "        print(f\"player_score: {player_score}\")\n",
    "        print(\"***It's a tie***\")\n",
    "        print(\" \")\n",
    "    return\n",
    "\n",
    "def game_rpsls():\n",
    "    global count_rounds\n",
    "    count_rounds = 0\n",
    "    count_rounds += 1\n",
    "    n_rounds_rpsls()\n",
    "    print(\"Let's play rock paper scissors lizard spock!\")\n",
    "\n",
    "    while count_rounds <= num_rounds and (cpu_score < rounds_to_win and player_score < rounds_to_win):\n",
    "        print(f\"Round {count_rounds}/{num_rounds}\")\n",
    "        #print(f\"cpu_score: {cpu_score}\")\n",
    "        #print(f\"player_score: {player_score}\")\n",
    "        #print(\"***\")\n",
    "        player_choice_rpsls()\n",
    "        cpu_choice_rpsls()\n",
    "        #print(\"*\" * 3)\n",
    "        winner_mult_rounds()\n",
    "        #print(\"*\" * 3)\n",
    "        count_rounds += 1\n",
    "        #print(\"_\" * 10)\n",
    "\n",
    "    if cpu_score > player_score:\n",
    "        print(\"***Game finished. The computer wins, sorry!***\")\n",
    "    elif cpu_score < player_score:\n",
    "        print(\"***Game finished. You win the game, congrats!***\")\n",
    "    else:\n",
    "        print(\"***Game finished. It's a tie. Better luck next time!***\")\n",
    "    return\n",
    "\n",
    "game_rpsls()"
   ]
  }
 ],
 "metadata": {
  "kernelspec": {
   "display_name": "Python 3",
   "language": "python",
   "name": "python3"
  },
  "language_info": {
   "codemirror_mode": {
    "name": "ipython",
    "version": 3
   },
   "file_extension": ".py",
   "mimetype": "text/x-python",
   "name": "python",
   "nbconvert_exporter": "python",
   "pygments_lexer": "ipython3",
   "version": "3.9.1"
  }
 },
 "nbformat": 4,
 "nbformat_minor": 2
}
